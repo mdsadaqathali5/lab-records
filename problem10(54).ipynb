{
  "nbformat": 4,
  "nbformat_minor": 0,
  "metadata": {
    "colab": {
      "provenance": [],
      "authorship_tag": "ABX9TyP+m/v3/pFSzysNS1cOWVA4",
      "include_colab_link": true
    },
    "kernelspec": {
      "name": "python3",
      "display_name": "Python 3"
    },
    "language_info": {
      "name": "python"
    }
  },
  "cells": [
    {
      "cell_type": "markdown",
      "metadata": {
        "id": "view-in-github",
        "colab_type": "text"
      },
      "source": [
        "<a href=\"https://colab.research.google.com/github/mdsadaqathali5/lab-records/blob/main/problem10(54).ipynb\" target=\"_parent\"><img src=\"https://colab.research.google.com/assets/colab-badge.svg\" alt=\"Open In Colab\"/></a>"
      ]
    },
    {
      "cell_type": "markdown",
      "source": [
        "###Given the following data,which specify classifications for nine combinations of VAR1 and VAR2 predict a classification for a case where VAR1=0.906 and VAR2=0.606,using the result of k-means clustering with 3 means."
      ],
      "metadata": {
        "id": "voJPiRhm4BLs"
      }
    },
    {
      "cell_type": "code",
      "source": [
        "from sklearn.cluster import KMeans\n",
        "import numpy as np\n",
        "x = np.array([[1.713,1.586],[0.180,1.786],[0.353,1.240],[0.940,1.566],[1.486,0.759],[1.266,1.106],[1.540,0.419],[0.459,1.799],[0.773,0.186]])\n",
        "y = np.array([0,1,1,0,1,0,1,1,1])\n",
        "\n",
        "k_means = KMeans(n_clusters=3, random_state=0).fit(x,y)\n",
        "print(\"The input data is\")\n",
        "print(\"VAR1\\tVAR2\\tCLASS\")\n",
        "i = 0\n",
        "for val in x:\n",
        "  print(val[0],\"\\t\",val[1],\"\\t\",y[i])\n",
        "  i+=1\n",
        "print(\"=\"*20)\n",
        "#To get test data from the user\n",
        "print(\"The test data to predict: \")\n",
        "test_data = []\n",
        "VAR1 = float(input(\"Enter value of VAR1: \"))\n",
        "VAR2 = float(input(\"Enter value of VAR2: \"))\n",
        "test_data.append(VAR1)\n",
        "test_data.append(VAR2)\n",
        "print(\"=\"*20)\n",
        "print(\"The predicted class is: \",k_means.predict([test_data]))\n",
        "\n"
      ],
      "metadata": {
        "colab": {
          "base_uri": "https://localhost:8080/"
        },
        "id": "6hDWXGqJ52C1",
        "outputId": "cdc540ca-3de7-4423-e4b6-76e255033afa"
      },
      "execution_count": 4,
      "outputs": [
        {
          "output_type": "stream",
          "name": "stdout",
          "text": [
            "The input data is\n",
            "VAR1\tVAR2\tCLASS\n",
            "1.713 \t 1.586 \t 0\n",
            "0.18 \t 1.786 \t 1\n",
            "0.353 \t 1.24 \t 1\n",
            "0.94 \t 1.566 \t 0\n",
            "1.486 \t 0.759 \t 1\n",
            "1.266 \t 1.106 \t 0\n",
            "1.54 \t 0.419 \t 1\n",
            "0.459 \t 1.799 \t 1\n",
            "0.773 \t 0.186 \t 1\n",
            "====================\n",
            "The test data to predict: \n",
            "Enter value of VAR1: 0.906\n",
            "Enter value of VAR2: 0.606\n",
            "====================\n",
            "The predicted class is:  [0]\n"
          ]
        }
      ]
    }
  ]
}