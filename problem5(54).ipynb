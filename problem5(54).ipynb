{
  "nbformat": 4,
  "nbformat_minor": 0,
  "metadata": {
    "colab": {
      "provenance": [],
      "authorship_tag": "ABX9TyMukFDU+qDeKXnFemIJM5vD",
      "include_colab_link": true
    },
    "kernelspec": {
      "name": "python3",
      "display_name": "Python 3"
    },
    "language_info": {
      "name": "python"
    }
  },
  "cells": [
    {
      "cell_type": "markdown",
      "metadata": {
        "id": "view-in-github",
        "colab_type": "text"
      },
      "source": [
        "<a href=\"https://colab.research.google.com/github/mdsadaqathali5/lab-records/blob/main/problem5(54).ipynb\" target=\"_parent\"><img src=\"https://colab.research.google.com/assets/colab-badge.svg\" alt=\"Open In Colab\"/></a>"
      ]
    },
    {
      "cell_type": "markdown",
      "source": [
        "###Problem Statement:Determine the virginica class or not based on the pedal width of the flower alone using Logistic Regression model"
      ],
      "metadata": {
        "id": "5Ar2CW-3wNco"
      }
    },
    {
      "cell_type": "code",
      "execution_count": 1,
      "metadata": {
        "colab": {
          "base_uri": "https://localhost:8080/"
        },
        "id": "8kpuLj_zwGWV",
        "outputId": "c0400f14-0181-4039-96a0-edcc53933f9a"
      },
      "outputs": [
        {
          "output_type": "execute_result",
          "data": {
            "text/plain": [
              "array([[0.45713982, 0.54286018],\n",
              "       [0.66699864, 0.33300136]])"
            ]
          },
          "metadata": {},
          "execution_count": 1
        }
      ],
      "source": [
        "import numpy as np\n",
        "from sklearn import datasets\n",
        "iris = datasets.load_iris()\n",
        "\n",
        "X = iris[\"data\"][:,3:] #petal width\n",
        "y = (iris[\"target\"] == 2).astype(np.int64) # 1 if iris virginica,else 0;note the astype(np.int)\n",
        "\n",
        "from sklearn.linear_model import LogisticRegression\n",
        "log_reg = LogisticRegression(solver=\"lbfgs\",random_state=42)\n",
        "log_reg.fit(X,y)\n",
        "\n",
        "\"\"\"if you ask it to predict the class (using the predict() method\n",
        "    rather than the predict_proba() method),it will return which ever class is the most likely\"\"\"\n",
        "\n",
        "log_reg.predict([[1.7],[1.5]])\n",
        "log_reg.predict_proba([[1.7],[1.5]])"
      ]
    }
  ]
}