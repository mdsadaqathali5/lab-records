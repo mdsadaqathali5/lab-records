{
  "nbformat": 4,
  "nbformat_minor": 0,
  "metadata": {
    "colab": {
      "provenance": [],
      "authorship_tag": "ABX9TyPv/jqSl8He9wvPo5TkUQv/",
      "include_colab_link": true
    },
    "kernelspec": {
      "name": "python3",
      "display_name": "Python 3"
    },
    "language_info": {
      "name": "python"
    }
  },
  "cells": [
    {
      "cell_type": "markdown",
      "metadata": {
        "id": "view-in-github",
        "colab_type": "text"
      },
      "source": [
        "<a href=\"https://colab.research.google.com/github/mdsadaqathali5/lab-records/blob/main/problem4(54).ipynb\" target=\"_parent\"><img src=\"https://colab.research.google.com/assets/colab-badge.svg\" alt=\"Open In Colab\"/></a>"
      ]
    },
    {
      "cell_type": "markdown",
      "source": [
        "###Importing Libraries"
      ],
      "metadata": {
        "id": "bIcR8SpouHY-"
      }
    },
    {
      "cell_type": "code",
      "source": [
        "import pandas as pd\n",
        "import numpy as np\n",
        "import statsmodels.api as sm"
      ],
      "metadata": {
        "id": "vTpGKl6auPkY"
      },
      "execution_count": 1,
      "outputs": []
    },
    {
      "cell_type": "markdown",
      "source": [
        "###Importing a dataset"
      ],
      "metadata": {
        "id": "Tvi6w6v8uX30"
      }
    },
    {
      "cell_type": "code",
      "source": [
        "mba_salary_df = pd.read_csv('MBA_Salary.csv')\n",
        "mba_salary_df.head(10)\n",
        "mba_salary_df.rename(columns={'Percentage in Grade 10':'peringrade10'},inplace=True)\n",
        "mba_salary_df.info()\n",
        "mba_salary_df.describe()\n",
        "x = sm.add_constant(mba_salary_df['peringrade10'])\n",
        "x.head(5)\n",
        "y = mba_salary_df['Salary']"
      ],
      "metadata": {
        "colab": {
          "base_uri": "https://localhost:8080/"
        },
        "id": "a4t72HfKui33",
        "outputId": "0066207f-5e6c-4928-d50e-b0bd410e145b"
      },
      "execution_count": 2,
      "outputs": [
        {
          "output_type": "stream",
          "name": "stdout",
          "text": [
            "<class 'pandas.core.frame.DataFrame'>\n",
            "RangeIndex: 50 entries, 0 to 49\n",
            "Data columns (total 3 columns):\n",
            " #   Column        Non-Null Count  Dtype  \n",
            "---  ------        --------------  -----  \n",
            " 0   S. No.        50 non-null     int64  \n",
            " 1   peringrade10  50 non-null     float64\n",
            " 2   Salary        50 non-null     int64  \n",
            "dtypes: float64(1), int64(2)\n",
            "memory usage: 1.3 KB\n"
          ]
        }
      ]
    },
    {
      "cell_type": "markdown",
      "source": [
        "###1)Splitting training data and test data"
      ],
      "metadata": {
        "id": "tfbwMon4u3Jm"
      }
    },
    {
      "cell_type": "code",
      "source": [
        "from sklearn.model_selection import train_test_split\n",
        "train_x,test_x,train_y,test_y = train_test_split(x,y,train_size=0.8,random_state=100)"
      ],
      "metadata": {
        "id": "cg4u0QmHuzbi"
      },
      "execution_count": 3,
      "outputs": []
    },
    {
      "cell_type": "markdown",
      "source": [
        "###2)Evaluate the model(intercept and slope)"
      ],
      "metadata": {
        "id": "dZGroaiuvDRb"
      }
    },
    {
      "cell_type": "code",
      "source": [
        "mba_salary_lm = sm.OLS(train_y,train_x).fit()\n",
        "print(mba_salary_lm.params)\n",
        "mba_salary_lm.summary2()"
      ],
      "metadata": {
        "colab": {
          "base_uri": "https://localhost:8080/",
          "height": 419
        },
        "id": "796tCcPIvCXD",
        "outputId": "4af8f1d8-a4f7-479e-eaf2-5751ceb046d9"
      },
      "execution_count": 4,
      "outputs": [
        {
          "output_type": "stream",
          "name": "stdout",
          "text": [
            "const           30587.285652\n",
            "peringrade10     3560.587383\n",
            "dtype: float64\n"
          ]
        },
        {
          "output_type": "execute_result",
          "data": {
            "text/plain": [
              "<class 'statsmodels.iolib.summary2.Summary'>\n",
              "\"\"\"\n",
              "                     Results: Ordinary least squares\n",
              "=========================================================================\n",
              "Model:                OLS                Adj. R-squared:       0.190     \n",
              "Dependent Variable:   Salary             AIC:                  1008.8680 \n",
              "Date:                 2025-09-09 16:06   BIC:                  1012.2458 \n",
              "No. Observations:     40                 Log-Likelihood:       -502.43   \n",
              "Df Model:             1                  F-statistic:          10.16     \n",
              "Df Residuals:         38                 Prob (F-statistic):   0.00287   \n",
              "R-squared:            0.211              Scale:                5.0121e+09\n",
              "-------------------------------------------------------------------------\n",
              "               Coef.     Std.Err.    t    P>|t|     [0.025       0.975]  \n",
              "-------------------------------------------------------------------------\n",
              "const        30587.2857 71869.4497 0.4256 0.6728 -114904.8088 176079.3801\n",
              "peringrade10  3560.5874  1116.9258 3.1878 0.0029    1299.4892   5821.6855\n",
              "-------------------------------------------------------------------------\n",
              "Omnibus:                  2.048          Durbin-Watson:             2.611\n",
              "Prob(Omnibus):            0.359          Jarque-Bera (JB):          1.724\n",
              "Skew:                     0.369          Prob(JB):                  0.422\n",
              "Kurtosis:                 2.300          Condition No.:             413  \n",
              "=========================================================================\n",
              "Notes:\n",
              "[1] Standard Errors assume that the covariance matrix of the errors is\n",
              "correctly specified.\n",
              "\"\"\""
            ],
            "text/html": [
              "<table class=\"simpletable\">\n",
              "<tr>\n",
              "        <td>Model:</td>               <td>OLS</td>         <td>Adj. R-squared:</td>      <td>0.190</td>  \n",
              "</tr>\n",
              "<tr>\n",
              "  <td>Dependent Variable:</td>      <td>Salary</td>             <td>AIC:</td>          <td>1008.8680</td>\n",
              "</tr>\n",
              "<tr>\n",
              "         <td>Date:</td>        <td>2025-09-09 16:06</td>        <td>BIC:</td>          <td>1012.2458</td>\n",
              "</tr>\n",
              "<tr>\n",
              "   <td>No. Observations:</td>         <td>40</td>          <td>Log-Likelihood:</td>     <td>-502.43</td> \n",
              "</tr>\n",
              "<tr>\n",
              "       <td>Df Model:</td>              <td>1</td>           <td>F-statistic:</td>        <td>10.16</td>  \n",
              "</tr>\n",
              "<tr>\n",
              "     <td>Df Residuals:</td>           <td>38</td>        <td>Prob (F-statistic):</td>   <td>0.00287</td> \n",
              "</tr>\n",
              "<tr>\n",
              "      <td>R-squared:</td>            <td>0.211</td>            <td>Scale:</td>        <td>5.0121e+09</td>\n",
              "</tr>\n",
              "</table>\n",
              "<table class=\"simpletable\">\n",
              "<tr>\n",
              "        <td></td>          <th>Coef.</th>    <th>Std.Err.</th>     <th>t</th>    <th>P>|t|</th>    <th>[0.025</th>      <th>0.975]</th>   \n",
              "</tr>\n",
              "<tr>\n",
              "  <th>const</th>        <td>30587.2857</td> <td>71869.4497</td> <td>0.4256</td> <td>0.6728</td> <td>-114904.8088</td> <td>176079.3801</td>\n",
              "</tr>\n",
              "<tr>\n",
              "  <th>peringrade10</th>  <td>3560.5874</td>  <td>1116.9258</td> <td>3.1878</td> <td>0.0029</td>   <td>1299.4892</td>   <td>5821.6855</td> \n",
              "</tr>\n",
              "</table>\n",
              "<table class=\"simpletable\">\n",
              "<tr>\n",
              "     <td>Omnibus:</td>    <td>2.048</td>  <td>Durbin-Watson:</td>   <td>2.611</td>\n",
              "</tr>\n",
              "<tr>\n",
              "  <td>Prob(Omnibus):</td> <td>0.359</td> <td>Jarque-Bera (JB):</td> <td>1.724</td>\n",
              "</tr>\n",
              "<tr>\n",
              "       <td>Skew:</td>     <td>0.369</td>     <td>Prob(JB):</td>     <td>0.422</td>\n",
              "</tr>\n",
              "<tr>\n",
              "     <td>Kurtosis:</td>   <td>2.300</td>  <td>Condition No.:</td>    <td>413</td> \n",
              "</tr>\n",
              "</table><br/>\n",
              "Notes:<br/>\n",
              "[1] Standard Errors assume that the covariance matrix of the errors is correctly specified."
            ],
            "text/latex": "\\begin{table}\n\\caption{Results: Ordinary least squares}\n\\label{}\n\\begin{center}\n\\begin{tabular}{llll}\n\\hline\nModel:              & OLS              & Adj. R-squared:     & 0.190       \\\\\nDependent Variable: & Salary           & AIC:                & 1008.8680   \\\\\nDate:               & 2025-09-09 16:06 & BIC:                & 1012.2458   \\\\\nNo. Observations:   & 40               & Log-Likelihood:     & -502.43     \\\\\nDf Model:           & 1                & F-statistic:        & 10.16       \\\\\nDf Residuals:       & 38               & Prob (F-statistic): & 0.00287     \\\\\nR-squared:          & 0.211            & Scale:              & 5.0121e+09  \\\\\n\\hline\n\\end{tabular}\n\\end{center}\n\n\\begin{center}\n\\begin{tabular}{lrrrrrr}\n\\hline\n             &      Coef. &   Std.Err. &      t & P$> |$t$|$ &       [0.025 &      0.975]  \\\\\n\\hline\nconst        & 30587.2857 & 71869.4497 & 0.4256 &      0.6728 & -114904.8088 & 176079.3801  \\\\\nperingrade10 &  3560.5874 &  1116.9258 & 3.1878 &      0.0029 &    1299.4892 &   5821.6855  \\\\\n\\hline\n\\end{tabular}\n\\end{center}\n\n\\begin{center}\n\\begin{tabular}{llll}\n\\hline\nOmnibus:       & 2.048 & Durbin-Watson:    & 2.611  \\\\\nProb(Omnibus): & 0.359 & Jarque-Bera (JB): & 1.724  \\\\\nSkew:          & 0.369 & Prob(JB):         & 0.422  \\\\\nKurtosis:      & 2.300 & Condition No.:    & 413    \\\\\n\\hline\n\\end{tabular}\n\\end{center}\n\\end{table}\n\\bigskip\nNotes: \\newline \n[1] Standard Errors assume that the covariance matrix of the errors is correctly specified."
          },
          "metadata": {},
          "execution_count": 4
        }
      ]
    },
    {
      "cell_type": "markdown",
      "source": [
        "###3)Predicting the test set result"
      ],
      "metadata": {
        "id": "ugjfNoIivRt1"
      }
    },
    {
      "cell_type": "code",
      "source": [
        "pred_y = mba_salary_lm.predict(test_x)"
      ],
      "metadata": {
        "id": "nNqYKZn3vPrF"
      },
      "execution_count": 5,
      "outputs": []
    },
    {
      "cell_type": "markdown",
      "source": [
        "4)Compare actual output values with predicted values"
      ],
      "metadata": {
        "id": "FCKS3kGDvhZJ"
      }
    },
    {
      "cell_type": "code",
      "source": [
        "from sklearn.metrics import r2_score,mean_squared_error\n",
        "np.abs(r2_score(test_y,pred_y))\n",
        "mean_squared_error(test_y,pred_y)\n",
        "np.sqrt(mean_squared_error(test_y,pred_y))"
      ],
      "metadata": {
        "colab": {
          "base_uri": "https://localhost:8080/"
        },
        "id": "HuTdujUpvgPe",
        "outputId": "004839af-cc2e-47eb-ec5c-ac23f3f32ab0"
      },
      "execution_count": 6,
      "outputs": [
        {
          "output_type": "execute_result",
          "data": {
            "text/plain": [
              "np.float64(73458.04348346895)"
            ]
          },
          "metadata": {},
          "execution_count": 6
        }
      ]
    }
  ]
}