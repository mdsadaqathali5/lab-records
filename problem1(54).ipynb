{
  "nbformat": 4,
  "nbformat_minor": 0,
  "metadata": {
    "colab": {
      "provenance": [],
      "authorship_tag": "ABX9TyOAOKL17VvIF4IWYUXymjiB",
      "include_colab_link": true
    },
    "kernelspec": {
      "name": "python3",
      "display_name": "Python 3"
    },
    "language_info": {
      "name": "python"
    }
  },
  "cells": [
    {
      "cell_type": "markdown",
      "metadata": {
        "id": "view-in-github",
        "colab_type": "text"
      },
      "source": [
        "<a href=\"https://colab.research.google.com/github/mdsadaqathali5/lab-records/blob/main/problem1(54).ipynb\" target=\"_parent\"><img src=\"https://colab.research.google.com/assets/colab-badge.svg\" alt=\"Open In Colab\"/></a>"
      ]
    },
    {
      "cell_type": "markdown",
      "source": [
        "##a)Operation of data types in Python"
      ],
      "metadata": {
        "id": "-HMnQ7wTsnlN"
      }
    },
    {
      "cell_type": "code",
      "source": [
        "x = 5\n",
        "print(type(x))\n",
        "\n",
        "x = str(\"Hello Sadaqath\")\n",
        "print(x)\n",
        "print(type(x))"
      ],
      "metadata": {
        "colab": {
          "base_uri": "https://localhost:8080/"
        },
        "id": "5_0O6YtYs2zd",
        "outputId": "5e81214c-6734-492e-ad6a-2485f2f470a7"
      },
      "execution_count": 3,
      "outputs": [
        {
          "output_type": "stream",
          "name": "stdout",
          "text": [
            "<class 'int'>\n",
            "Hello Sadaqath\n",
            "<class 'str'>\n"
          ]
        }
      ]
    },
    {
      "cell_type": "markdown",
      "source": [
        "##b) Different Arithmetic operations on numbers in python."
      ],
      "metadata": {
        "id": "wvzlgWl2jgjx"
      }
    },
    {
      "cell_type": "code",
      "source": [
        "num1 = input('Enter first number: ')\n",
        "num2 = input('Enter second number: ')\n",
        "\n",
        "sum = float(num1) + float(num2)\n",
        "sub = float(num1) - float(num2)\n",
        "mul = float(num1) * float(num2)\n",
        "div = float(num1) / float(num2)\n",
        "\n",
        "print('The sum of {0} and {1} is {2}'.format(num1, num2, sum))\n",
        "\n",
        "print('The subtraction of {0} and {1} is {2}'.format(num1, num2, sub))\n",
        "\n",
        "print('The multiplication of {0} and {1} is {2}'.format(num1, num2, mul))\n",
        "\n",
        "print ('The division of {0} and {1} is {2}'.format(num1, num2, div))"
      ],
      "metadata": {
        "colab": {
          "base_uri": "https://localhost:8080/"
        },
        "id": "zSK7m1gtjlXV",
        "outputId": "c6660047-9693-4a49-806f-fd6bc3af5170"
      },
      "execution_count": 1,
      "outputs": [
        {
          "output_type": "stream",
          "name": "stdout",
          "text": [
            "Enter first number: 5\n",
            "Enter second number: 10\n",
            "The sum of 5 and 10 is 15.0\n",
            "The subtraction of 5 and 10 is -5.0\n",
            "The multiplication of 5 and 10 is 50.0\n",
            "The division of 5 and 10 is 0.5\n"
          ]
        }
      ]
    },
    {
      "cell_type": "markdown",
      "source": [
        "##c) Create, concatenate and print a string and access substring from a given string."
      ],
      "metadata": {
        "id": "BND5oyomkBTF"
      }
    },
    {
      "cell_type": "code",
      "source": [
        "x = \"Python \"\n",
        "y= \"is\"\n",
        "z = \"awesome\"\n",
        "print(x + y + z)"
      ],
      "metadata": {
        "colab": {
          "base_uri": "https://localhost:8080/"
        },
        "id": "reJqD5j5kH6l",
        "outputId": "943c0d02-c836-4fc7-ceab-c4eef4af6c63"
      },
      "execution_count": 2,
      "outputs": [
        {
          "output_type": "stream",
          "name": "stdout",
          "text": [
            "Python isawesome\n"
          ]
        }
      ]
    },
    {
      "cell_type": "markdown",
      "source": [
        "##d) Append, and remove lists in python"
      ],
      "metadata": {
        "id": "r2A30VhmknDw"
      }
    },
    {
      "cell_type": "code",
      "source": [
        "#append method\n",
        "a= [25,\"vinay\",45,217]\n",
        "a. append(\"rohit\")\n",
        "print(a)\n",
        "\n",
        "#extend method\n",
        "b=[2,45,101]\n",
        "b.extend([\"sunny\",\"sandeep\",\"shashanka\"])\n",
        "print(b)\n",
        "\n",
        "#pop method for remove an element\n",
        "d=[12,34,56,78,89,0]\n",
        "d.pop()\n",
        "print(d)"
      ],
      "metadata": {
        "colab": {
          "base_uri": "https://localhost:8080/"
        },
        "id": "AdQSFH3Zkr7t",
        "outputId": "0d8afd8b-09f5-4e2e-9a2a-4ad8ea0e0b5d"
      },
      "execution_count": 4,
      "outputs": [
        {
          "output_type": "stream",
          "name": "stdout",
          "text": [
            "[25, 'vinay', 45, 217, 'rohit']\n",
            "[2, 45, 101, 'sunny', 'sandeep', 'shashanka']\n",
            "[12, 34, 56, 78, 89]\n"
          ]
        }
      ]
    },
    {
      "cell_type": "markdown",
      "source": [
        "##e) Demonstrate working with tuples in python."
      ],
      "metadata": {
        "id": "_7U2e41yk-1u"
      }
    },
    {
      "cell_type": "code",
      "source": [
        "#empty tuple\n",
        "t= ()\n",
        "print(t)\n",
        "\n",
        "tup = ('python','Java')\n",
        "print(tup)\n",
        "\n",
        "# concatenating 2 tuples\n",
        "tuple1 = (0, 1, 2, 3)\n",
        "tuple2 = ('python', 'GoEduhub')\n",
        "print(tuple1 + tuple2)\n",
        "\n",
        "#converting a list and a string into a tuple\n",
        "list1 = [0, 1, 2]\n",
        "print(tuple(list1))\n",
        "print(tuple('python'))\n",
        "\n",
        "#tuples in a loop\n",
        "tup = ('h','e','l', 'l', 'o')\n",
        "for i in tup:\n",
        "   print(i)"
      ],
      "metadata": {
        "colab": {
          "base_uri": "https://localhost:8080/"
        },
        "id": "VCCI_M2KlCYJ",
        "outputId": "41ecb3de-d918-4958-def5-3dfcd0298d7c"
      },
      "execution_count": 5,
      "outputs": [
        {
          "output_type": "stream",
          "name": "stdout",
          "text": [
            "()\n",
            "('python', 'Java')\n",
            "(0, 1, 2, 3, 'python', 'GoEduhub')\n",
            "(0, 1, 2)\n",
            "('p', 'y', 't', 'h', 'o', 'n')\n",
            "h\n",
            "e\n",
            "l\n",
            "l\n",
            "o\n"
          ]
        }
      ]
    },
    {
      "cell_type": "markdown",
      "source": [
        "##f) Demonstrate working with dictionaries in python\n"
      ],
      "metadata": {
        "id": "2yy8CemMloaU"
      }
    },
    {
      "cell_type": "code",
      "source": [
        "#Create and print a dictionary :\n",
        "thisdict = {\n",
        "    \"brand\": \"Ford\",\n",
        "    \"model\": \"Mustang\",\n",
        "    \"year\": 1964\n",
        "}\n",
        "\n",
        "print(thisdict)\n",
        "\n",
        "#Dictionaries cannot have two items with the same key\n",
        "#Duplicate values will overwrite existing values\n",
        "thisdict = {\n",
        "    \"brand\": \"Ford\",\n",
        "    \"model\": \"Mustang\",\n",
        "    \"year\": 1964,\n",
        "    \"year\": 2020\n",
        "}\n",
        "print(thisdict)\n",
        "print(len(thisdict))\n",
        "\n",
        "#Accessing Items\n",
        "thisdict = {\n",
        "    \"brand\": \"Ford\",\n",
        "    \"model\": \"Mustang\",\n",
        "    \"year\": 1964\n",
        "}\n",
        "x = thisdict[\"model\"]\n",
        "print(x)"
      ],
      "metadata": {
        "colab": {
          "base_uri": "https://localhost:8080/"
        },
        "id": "kTihJcHDl1AG",
        "outputId": "437a3f2b-7cee-414a-e9a2-df0d1e0d7d12"
      },
      "execution_count": 6,
      "outputs": [
        {
          "output_type": "stream",
          "name": "stdout",
          "text": [
            "{'brand': 'Ford', 'model': 'Mustang', 'year': 1964}\n",
            "{'brand': 'Ford', 'model': 'Mustang', 'year': 2020}\n",
            "3\n",
            "Mustang\n"
          ]
        }
      ]
    }
  ]
}