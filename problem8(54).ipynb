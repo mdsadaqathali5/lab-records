{
  "nbformat": 4,
  "nbformat_minor": 0,
  "metadata": {
    "colab": {
      "provenance": [],
      "authorship_tag": "ABX9TyNakCUs0HwOxZd63fBSzjjs",
      "include_colab_link": true
    },
    "kernelspec": {
      "name": "python3",
      "display_name": "Python 3"
    },
    "language_info": {
      "name": "python"
    }
  },
  "cells": [
    {
      "cell_type": "markdown",
      "metadata": {
        "id": "view-in-github",
        "colab_type": "text"
      },
      "source": [
        "<a href=\"https://colab.research.google.com/github/mdsadaqathali5/lab-records/blob/main/problem8(54).ipynb\" target=\"_parent\"><img src=\"https://colab.research.google.com/assets/colab-badge.svg\" alt=\"Open In Colab\"/></a>"
      ]
    },
    {
      "cell_type": "markdown",
      "source": [
        "###Write a program to demonstrate the working of the decision tree based ID3 algorithm.Use an appropriate data set for building the decision tree and apply this knowledge to classify a new sample."
      ],
      "metadata": {
        "id": "SQNNcRYN19YZ"
      }
    },
    {
      "cell_type": "code",
      "execution_count": 1,
      "metadata": {
        "id": "EQ9biLRe16ho"
      },
      "outputs": [],
      "source": [
        "import pandas as pd\n",
        "import numpy as np"
      ]
    },
    {
      "cell_type": "code",
      "source": [
        "#Import the dataset and define the feature as well as the target datasets/columns\n",
        "\n",
        "dataset=pd.read_csv('playtennis.csv',names=['outlook','temperature', 'humidity','wind', 'class'])\n",
        "\n",
        "#Import all columns omitting the fist which consists the names of the animals\n",
        "#We drop the animal names since this is not a good feature to split the data on\n",
        "attributes=('Outlook','Temperature','Humidity', 'Wind', 'PlayTennis')\n",
        "def entropy(target_col):\n",
        "    \"\"\"Calculatetheentropyofadataset.\n",
        "       Theonlyparameterofthisfunctionisthetarget_colparameterwhich\n",
        "       specifiesthetargetcolumn\"\"\"\n",
        "\n",
        "    elements,counts=np.unique(target_col,return_counts=True)\n",
        "    if len(elements) <= 1:\n",
        "        print('Entropy=', 0)\n",
        "        return 0\n",
        "    entropy = np.sum([(-counts[i]/np.sum(counts))*np.log2(counts[i]/np.sum(counts))\n",
        "  for i in range(len(elements))])\n",
        "    print('Entropy=',entropy)\n",
        "    return entropy\n",
        "#Calculate the entropy of the dataset\n",
        "def InfoGain(data,split_attribute_name,target_name=\"class\"):\n",
        "  total_entropy=entropy(data[target_name])"
      ],
      "metadata": {
        "id": "8fXpxsmG2Ikl"
      },
      "execution_count": 3,
      "outputs": []
    },
    {
      "cell_type": "code",
      "source": [
        "# This cell is no longer needed as the code has been moved to the InfoGain function."
      ],
      "metadata": {
        "id": "983JpaJa28C3"
      },
      "execution_count": 6,
      "outputs": []
    },
    {
      "cell_type": "code",
      "source": [
        "def InfoGain(data,split_attribute_name,target_name=\"class\"):\n",
        "    #Calculate the total entropy of the target variable\n",
        "    total_entropy = entropy(data[target_name])\n",
        "\n",
        "    #Calculate the values and the corresponding counts for the split attribute\n",
        "    vals,counts=np.unique(data[split_attribute_name],return_counts=True)\n",
        "\n",
        "    #Calculate the weighted entropy\n",
        "    Weighted_Entropy = np.sum([(counts[i]/np.sum(counts))*(entropy(data.where(data[split_attribute_name]==vals[i]).dropna()[target_name])) for i in range(len(vals))])\n",
        "\n",
        "    #Calculate the information gain\n",
        "    Information_Gain = total_entropy - Weighted_Entropy\n",
        "    return Information_Gain\n",
        "\n",
        "def ID3(data, originaldata, features, target_attribute_name=\"class\", parent_node_class=None):\n",
        "    # Implement the ID3 algorithm here\n",
        "    pass"
      ],
      "metadata": {
        "id": "Cs4ruH8Q3DyT"
      },
      "execution_count": 7,
      "outputs": []
    }
  ]
}