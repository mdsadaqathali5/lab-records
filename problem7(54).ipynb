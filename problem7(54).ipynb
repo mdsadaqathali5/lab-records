{
  "nbformat": 4,
  "nbformat_minor": 0,
  "metadata": {
    "colab": {
      "provenance": [],
      "authorship_tag": "ABX9TyMeXx59q/j6Ux4pKV9DmXKh",
      "include_colab_link": true
    },
    "kernelspec": {
      "name": "python3",
      "display_name": "Python 3"
    },
    "language_info": {
      "name": "python"
    }
  },
  "cells": [
    {
      "cell_type": "markdown",
      "metadata": {
        "id": "view-in-github",
        "colab_type": "text"
      },
      "source": [
        "<a href=\"https://colab.research.google.com/github/mdsadaqathali5/lab-records/blob/main/problem7(54).ipynb\" target=\"_parent\"><img src=\"https://colab.research.google.com/assets/colab-badge.svg\" alt=\"Open In Colab\"/></a>"
      ]
    },
    {
      "cell_type": "markdown",
      "source": [
        "###1)The probability that it is friday and that a student is absent 3%.Since there are five school days in a week,the probability that it is friday is 20%.What is the probability that a student is absent given that today is friday?Apply Baye's rule in python to get the result.\n"
      ],
      "metadata": {
        "id": "L5TK1PaqxPPP"
      }
    },
    {
      "cell_type": "code",
      "execution_count": 1,
      "metadata": {
        "colab": {
          "base_uri": "https://localhost:8080/"
        },
        "id": "hAWuS7hyw-WF",
        "outputId": "88458baa-e1a3-4036-f234-e4ffecc50c42"
      },
      "outputs": [
        {
          "output_type": "stream",
          "name": "stdout",
          "text": [
            "15.0\n"
          ]
        }
      ],
      "source": [
        "probAbsentFriday = 0.03\n",
        "probFriday = 0.2\n",
        "\n",
        "# Bayes Formula\n",
        "# p(Absent|Friday)=p(Friday|Absent)p(Absent)/p(Friday)\n",
        "\n",
        "bayesResult = (probAbsentFriday/probFriday)\n",
        "print(bayesResult*100)"
      ]
    },
    {
      "cell_type": "markdown",
      "source": [
        "###2)Write a program to implement the Naive Bayesian classifier for a sample training dataset stored as a .CSV file.Compute the accuracy of the classifier,considering few test datasets.\n"
      ],
      "metadata": {
        "id": "xXgBznk9xv-7"
      }
    },
    {
      "cell_type": "code",
      "source": [
        "# Gaussian Naive Bayes\n",
        "from sklearn import datasets\n",
        "from sklearn import metrics\n",
        "from sklearn.naive_bayes import GaussianNB\n",
        "#load the iris datasets\n",
        "dataset = datasets.load_iris()\n",
        "#fit a Naive Bayes model to the data\n",
        "model = GaussianNB()\n",
        "\n",
        "model.fit(dataset.data,dataset.target)\n",
        "print(model)\n",
        "\n",
        "#make predictions\n",
        "expected = dataset.target\n",
        "predicted = model.predict(dataset.data)\n",
        "#summarize the fit of the model\n",
        "print(metrics.classification_report(expected,predicted))\n",
        "print(metrics.confusion_matrix(expected,predicted))\n"
      ],
      "metadata": {
        "colab": {
          "base_uri": "https://localhost:8080/"
        },
        "id": "t29iZ1gMxZl4",
        "outputId": "cd611c8f-24d5-4087-f604-234b455be3ff"
      },
      "execution_count": 2,
      "outputs": [
        {
          "output_type": "stream",
          "name": "stdout",
          "text": [
            "GaussianNB()\n",
            "              precision    recall  f1-score   support\n",
            "\n",
            "           0       1.00      1.00      1.00        50\n",
            "           1       0.94      0.94      0.94        50\n",
            "           2       0.94      0.94      0.94        50\n",
            "\n",
            "    accuracy                           0.96       150\n",
            "   macro avg       0.96      0.96      0.96       150\n",
            "weighted avg       0.96      0.96      0.96       150\n",
            "\n",
            "[[50  0  0]\n",
            " [ 0 47  3]\n",
            " [ 0  3 47]]\n"
          ]
        }
      ]
    }
  ]
}